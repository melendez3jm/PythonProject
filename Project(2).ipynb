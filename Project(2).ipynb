{
 "cells": [
  {
   "cell_type": "code",
   "execution_count": 82,
   "metadata": {},
   "outputs": [],
   "source": [
    "import numpy as np\n",
    "import pandas as pd\n",
    "import seaborn as sns\n",
    "import matplotlib.pyplot as plt"
   ]
  },
  {
   "cell_type": "code",
   "execution_count": 45,
   "metadata": {},
   "outputs": [],
   "source": [
    "df = pd.read_csv(\"disney_movies_total_gross.csv\")\n",
    "#https://www.kaggle.com/prateekmaj21/disney-movies"
   ]
  },
  {
   "cell_type": "code",
   "execution_count": 49,
   "metadata": {},
   "outputs": [
    {
     "name": "stdout",
     "output_type": "stream",
     "text": [
      "                       movie_title release_date      genre mpaa_rating  \\\n",
      "0  Snow White and the Seven Dwarfs   1937-12-21    Musical           G   \n",
      "1                        Pinocchio   1940-02-09  Adventure           G   \n",
      "2                         Fantasia   1940-11-13    Musical           G   \n",
      "3                Song of the South   1946-11-12  Adventure           G   \n",
      "4                       Cinderella   1950-02-15      Drama           G   \n",
      "\n",
      "   total_gross  inflation_adjusted_gross  \n",
      "0    184925485                5228953251  \n",
      "1     84300000                2188229052  \n",
      "2     83320000                2187090808  \n",
      "3     65000000                1078510579  \n",
      "4     85000000                 920608730  \n",
      "        total_gross  inflation_adjusted_gross\n",
      "count  5.790000e+02              5.790000e+02\n",
      "mean   6.470179e+07              1.187625e+08\n",
      "std    9.301301e+07              2.860853e+08\n",
      "min    0.000000e+00              0.000000e+00\n",
      "25%    1.278886e+07              2.274123e+07\n",
      "50%    3.070245e+07              5.515978e+07\n",
      "75%    7.570903e+07              1.192020e+08\n",
      "max    9.366622e+08              5.228953e+09\n",
      "movie_title                 object\n",
      "release_date                object\n",
      "genre                       object\n",
      "mpaa_rating                 object\n",
      "total_gross                  int64\n",
      "inflation_adjusted_gross     int64\n",
      "dtype: object\n"
     ]
    }
   ],
   "source": [
    "# shows top five rows of the data \n",
    "print(df.head())\n",
    "\n",
    "# gives us a general understanding of our numerical columns in our data set \n",
    "print (df.describe())\n",
    "\n",
    "#lets us know how our unaltered data set looks. \n",
    "#We can see that before any changes are made we have an unknown object type for most columns, and two int columns\n",
    "print (df.dtypes)\n"
   ]
  },
  {
   "cell_type": "code",
   "execution_count": 74,
   "metadata": {},
   "outputs": [
    {
     "data": {
      "text/html": [
       "<div>\n",
       "<style scoped>\n",
       "    .dataframe tbody tr th:only-of-type {\n",
       "        vertical-align: middle;\n",
       "    }\n",
       "\n",
       "    .dataframe tbody tr th {\n",
       "        vertical-align: top;\n",
       "    }\n",
       "\n",
       "    .dataframe thead th {\n",
       "        text-align: right;\n",
       "    }\n",
       "</style>\n",
       "<table border=\"1\" class=\"dataframe\">\n",
       "  <thead>\n",
       "    <tr style=\"text-align: right;\">\n",
       "      <th></th>\n",
       "      <th>movie_title</th>\n",
       "      <th>release_date</th>\n",
       "      <th>genre</th>\n",
       "      <th>mpaa_rating</th>\n",
       "      <th>total_gross</th>\n",
       "      <th>inflation_adjusted_gross</th>\n",
       "      <th>year</th>\n",
       "    </tr>\n",
       "  </thead>\n",
       "  <tbody>\n",
       "    <tr>\n",
       "      <th>0</th>\n",
       "      <td>Snow White and the Seven Dwarfs</td>\n",
       "      <td>1937-12-21</td>\n",
       "      <td>Musical</td>\n",
       "      <td>G</td>\n",
       "      <td>184925485</td>\n",
       "      <td>5228953251</td>\n",
       "      <td>1937</td>\n",
       "    </tr>\n",
       "    <tr>\n",
       "      <th>1</th>\n",
       "      <td>Pinocchio</td>\n",
       "      <td>1940-02-09</td>\n",
       "      <td>Adventure</td>\n",
       "      <td>G</td>\n",
       "      <td>84300000</td>\n",
       "      <td>2188229052</td>\n",
       "      <td>1940</td>\n",
       "    </tr>\n",
       "    <tr>\n",
       "      <th>2</th>\n",
       "      <td>Fantasia</td>\n",
       "      <td>1940-11-13</td>\n",
       "      <td>Musical</td>\n",
       "      <td>G</td>\n",
       "      <td>83320000</td>\n",
       "      <td>2187090808</td>\n",
       "      <td>1940</td>\n",
       "    </tr>\n",
       "    <tr>\n",
       "      <th>3</th>\n",
       "      <td>Song of the South</td>\n",
       "      <td>1946-11-12</td>\n",
       "      <td>Adventure</td>\n",
       "      <td>G</td>\n",
       "      <td>65000000</td>\n",
       "      <td>1078510579</td>\n",
       "      <td>1946</td>\n",
       "    </tr>\n",
       "    <tr>\n",
       "      <th>4</th>\n",
       "      <td>Cinderella</td>\n",
       "      <td>1950-02-15</td>\n",
       "      <td>Drama</td>\n",
       "      <td>G</td>\n",
       "      <td>85000000</td>\n",
       "      <td>920608730</td>\n",
       "      <td>1950</td>\n",
       "    </tr>\n",
       "  </tbody>\n",
       "</table>\n",
       "</div>"
      ],
      "text/plain": [
       "                       movie_title release_date      genre mpaa_rating  \\\n",
       "0  Snow White and the Seven Dwarfs   1937-12-21    Musical           G   \n",
       "1                        Pinocchio   1940-02-09  Adventure           G   \n",
       "2                         Fantasia   1940-11-13    Musical           G   \n",
       "3                Song of the South   1946-11-12  Adventure           G   \n",
       "4                       Cinderella   1950-02-15      Drama           G   \n",
       "\n",
       "   total_gross  inflation_adjusted_gross  year  \n",
       "0    184925485                5228953251  1937  \n",
       "1     84300000                2188229052  1940  \n",
       "2     83320000                2187090808  1940  \n",
       "3     65000000                1078510579  1946  \n",
       "4     85000000                 920608730  1950  "
      ]
     },
     "execution_count": 74,
     "metadata": {},
     "output_type": "execute_result"
    }
   ],
   "source": [
    "#we clean up the data here to change the date column to a more useable date time format\n",
    "df['release_date'] = pd.to_datetime(df['release_date'])\n",
    "#we clean our data by getting rid of any rows that are missing data \n",
    "df.shape\n",
    "clean = df.dropna()\n",
    "clean.shape\n",
    "#we can see that it ends up dropping 66 rows of data from our dataframe\n",
    "#for simplicity sake we just re-define the original dataframe as the cleaned dataframe \n",
    "df.dropna(inplace = True)\n",
    "#We add in a year column that is derived from the date column already in the dataframe.\n",
    "df['year'] = df['release_date'].dt.date.astype(str).str.split('-', expand=True)[0]\n",
    "df.head()"
   ]
  },
  {
   "cell_type": "code",
   "execution_count": 34,
   "metadata": {},
   "outputs": [],
   "source": [
    "\n"
   ]
  },
  {
   "cell_type": "code",
   "execution_count": 35,
   "metadata": {},
   "outputs": [
    {
     "data": {
      "image/png": "[encoded data removed]",
      "text/plain": [
       "<Figure size 720x720 with 1 Axes>"
      ]
     },
     "metadata": {
      "needs_background": "light"
     },
     "output_type": "display_data"
    }
   ],
   "source": [
    "#we create a sorted dataframe, sorted based on adjusted gross \n",
    "moviebygross = df.sort_values(by = 'inflation_adjusted_gross', ascending = False)\n",
    "\n",
    "# we set the variables for our bar chart and then finally chart the top ten movies by gross \n",
    "moviebygross10 = moviebygross.head(10)\n",
    "plt.figure(figsize=(10,10))\n",
    "sns.barplot(x=moviebygross10.movie_title,\n",
    "            y=moviebygross10.inflation_adjusted_gross, \n",
    "           palette=\"Paired\")\n",
    "plt.xlabel(\"Movies\",size=15)\n",
    "plt.ylabel(\"Gross Income (Billions)\", size = 15)\n",
    "plt.title(\"Top Movie Incomes Adjusted for Inflation\", size = 15)\n",
    "plt.xticks(rotation = 90)\n",
    "plt.tight_layout()\n",
    "#These lines create a grouped data set that is organized by genre plt.show()"
   ]
  },
  {
   "cell_type": "code",
   "execution_count": 70,
   "metadata": {},
   "outputs": [
    {
     "data": {
      "text/plain": [
       "genre\n",
       "Action                 1.486012e+08\n",
       "Adventure              1.971801e+08\n",
       "Black Comedy           5.224349e+07\n",
       "Comedy                 8.731064e+07\n",
       "Concert/Performance    5.741084e+07\n",
       "Documentary            1.271803e+07\n",
       "Drama                  7.735607e+07\n",
       "Horror                 2.506927e+07\n",
       "Musical                6.377507e+08\n",
       "Romantic Comedy        7.821326e+07\n",
       "Thriller/Suspense      9.241864e+07\n",
       "Western                7.381571e+07\n",
       "Name: inflation_adjusted_gross, dtype: float64"
      ]
     },
     "execution_count": 70,
     "metadata": {},
     "output_type": "execute_result"
    }
   ],
   "source": [
    "#These lines create a grouped data set that is organized by genre \n",
    "grouped_count=df['inflation_adjusted_gross'].groupby(df['genre'])\n",
    "grouped_count.count()\n",
    "#we then find the average value per genre by using a group by object\n",
    "grouped_mean=df['inflation_adjusted_gross'].groupby(df['genre'])\n",
    "grouped_mean.mean()\n",
    "#some distortions we acknowledg are the skewed averages of genres with a small amount of movies like \"Black Comedy\""
   ]
  },
  {
   "cell_type": "code",
   "execution_count": 38,
   "metadata": {},
   "outputs": [
    {
     "data": {
      "image/png": "[encoded data removed]",
      "text/plain": [
       "<Figure size 1152x720 with 1 Axes>"
      ]
     },
     "metadata": {
      "needs_background": "light"
     },
     "output_type": "display_data"
    }
   ],
   "source": [
    "# we use the main dataframe to visualize the \n",
    "plt.figure(figsize=(16, 10))\n",
    "plt.title('Disney movies genres')\n",
    "sns.countplot(y='genre', data=df)\n",
    "plt.tight_layout()\n",
    "# the results of this visualization show that most movies made by disney would be categorized as \"comedy\""
   ]
  },
  {
   "cell_type": "code",
   "execution_count": 39,
   "metadata": {},
   "outputs": [
    {
     "data": {
      "text/html": [
       "<div>\n",
       "<style scoped>\n",
       "    .dataframe tbody tr th:only-of-type {\n",
       "        vertical-align: middle;\n",
       "    }\n",
       "\n",
       "    .dataframe tbody tr th {\n",
       "        vertical-align: top;\n",
       "    }\n",
       "\n",
       "    .dataframe thead th {\n",
       "        text-align: right;\n",
       "    }\n",
       "</style>\n",
       "<table border=\"1\" class=\"dataframe\">\n",
       "  <thead>\n",
       "    <tr style=\"text-align: right;\">\n",
       "      <th></th>\n",
       "      <th>movie_title</th>\n",
       "      <th>inflation_adjusted_gross</th>\n",
       "      <th>genre</th>\n",
       "      <th>year</th>\n",
       "    </tr>\n",
       "  </thead>\n",
       "  <tbody>\n",
       "    <tr>\n",
       "      <th>0</th>\n",
       "      <td>Snow White and the Seven Dwarfs</td>\n",
       "      <td>5228953251</td>\n",
       "      <td>Musical</td>\n",
       "      <td>1937</td>\n",
       "    </tr>\n",
       "    <tr>\n",
       "      <th>1</th>\n",
       "      <td>Pinocchio</td>\n",
       "      <td>2188229052</td>\n",
       "      <td>Adventure</td>\n",
       "      <td>1940</td>\n",
       "    </tr>\n",
       "    <tr>\n",
       "      <th>2</th>\n",
       "      <td>Fantasia</td>\n",
       "      <td>2187090808</td>\n",
       "      <td>Musical</td>\n",
       "      <td>1940</td>\n",
       "    </tr>\n",
       "    <tr>\n",
       "      <th>3</th>\n",
       "      <td>Song of the South</td>\n",
       "      <td>1078510579</td>\n",
       "      <td>Adventure</td>\n",
       "      <td>1946</td>\n",
       "    </tr>\n",
       "    <tr>\n",
       "      <th>4</th>\n",
       "      <td>Cinderella</td>\n",
       "      <td>920608730</td>\n",
       "      <td>Drama</td>\n",
       "      <td>1950</td>\n",
       "    </tr>\n",
       "    <tr>\n",
       "      <th>...</th>\n",
       "      <td>...</td>\n",
       "      <td>...</td>\n",
       "      <td>...</td>\n",
       "      <td>...</td>\n",
       "    </tr>\n",
       "    <tr>\n",
       "      <th>574</th>\n",
       "      <td>The Light Between Oceans</td>\n",
       "      <td>12545979</td>\n",
       "      <td>Drama</td>\n",
       "      <td>2016</td>\n",
       "    </tr>\n",
       "    <tr>\n",
       "      <th>575</th>\n",
       "      <td>Queen of Katwe</td>\n",
       "      <td>8874389</td>\n",
       "      <td>Drama</td>\n",
       "      <td>2016</td>\n",
       "    </tr>\n",
       "    <tr>\n",
       "      <th>576</th>\n",
       "      <td>Doctor Strange</td>\n",
       "      <td>232532923</td>\n",
       "      <td>Adventure</td>\n",
       "      <td>2016</td>\n",
       "    </tr>\n",
       "    <tr>\n",
       "      <th>577</th>\n",
       "      <td>Moana</td>\n",
       "      <td>246082029</td>\n",
       "      <td>Adventure</td>\n",
       "      <td>2016</td>\n",
       "    </tr>\n",
       "    <tr>\n",
       "      <th>578</th>\n",
       "      <td>Rogue One: A Star Wars Story</td>\n",
       "      <td>529483936</td>\n",
       "      <td>Adventure</td>\n",
       "      <td>2016</td>\n",
       "    </tr>\n",
       "  </tbody>\n",
       "</table>\n",
       "<p>579 rows × 4 columns</p>\n",
       "</div>"
      ],
      "text/plain": [
       "                         movie_title  inflation_adjusted_gross      genre  \\\n",
       "0    Snow White and the Seven Dwarfs                5228953251    Musical   \n",
       "1                          Pinocchio                2188229052  Adventure   \n",
       "2                           Fantasia                2187090808    Musical   \n",
       "3                  Song of the South                1078510579  Adventure   \n",
       "4                         Cinderella                 920608730      Drama   \n",
       "..                               ...                       ...        ...   \n",
       "574         The Light Between Oceans                  12545979      Drama   \n",
       "575                   Queen of Katwe                   8874389      Drama   \n",
       "576                   Doctor Strange                 232532923  Adventure   \n",
       "577                            Moana                 246082029  Adventure   \n",
       "578     Rogue One: A Star Wars Story                 529483936  Adventure   \n",
       "\n",
       "     year  \n",
       "0    1937  \n",
       "1    1940  \n",
       "2    1940  \n",
       "3    1946  \n",
       "4    1950  \n",
       "..    ...  \n",
       "574  2016  \n",
       "575  2016  \n",
       "576  2016  \n",
       "577  2016  \n",
       "578  2016  \n",
       "\n",
       "[579 rows x 4 columns]"
      ]
     },
     "execution_count": 39,
     "metadata": {},
     "output_type": "execute_result"
    }
   ],
   "source": [
    "#Here we create a sliced data frame that drops some tables to allow for easy readability\n",
    "df1=df.loc[:,['movie_title','inflation_adjusted_gross','genre','year']]\n",
    "print (df1)\n",
    "#the columns we leave out are the less neccesary unadjusted gross income, MPAA rating, and the full release date in favor of release year \n"
   ]
  },
  {
   "cell_type": "code",
   "execution_count": 78,
   "metadata": {},
   "outputs": [],
   "source": [
    "# we create another grouped object to use in making the table below \n",
    "year_income = df.groupby('year').sum()"
   ]
  },
  {
   "cell_type": "code",
   "execution_count": 83,
   "metadata": {
    "scrolled": true
   },
   "outputs": [
    {
     "data": {
      "text/plain": [
       "<AxesSubplot:title={'center':'disney movies income adjusted'}, xlabel='year', ylabel='inflation adjusted income'>"
      ]
     },
     "execution_count": 83,
     "metadata": {},
     "output_type": "execute_result"
    },
    {
     "data": {
      "image/png": "[encoded data removed]",
      "text/plain": [
       "<Figure size 1152x576 with 1 Axes>"
      ]
     },
     "metadata": {
      "needs_background": "light"
     },
     "output_type": "display_data"
    }
   ],
   "source": [
    "# we set variables and plot a table that shows the gross income in yearly format as opposed to by movie.\n",
    "plt.figure(figsize=(16, 8))\n",
    "plt.title('disney movies income adjusted')\n",
    "plt.xlabel('year')\n",
    "plt.ylabel('inflation adjusted income')\n",
    "plt.xticks(rotation=90)\n",
    "plt.tight_layout()\n",
    "sns.lineplot(x=year_income.index, y=year_income['inflation_adjusted_gross'],color='maroon')"
   ]
  },
  {
   "cell_type": "code",
   "execution_count": 28,
   "metadata": {},
   "outputs": [
    {
     "data": {
      "text/html": [
       "<div>\n",
       "<style scoped>\n",
       "    .dataframe tbody tr th:only-of-type {\n",
       "        vertical-align: middle;\n",
       "    }\n",
       "\n",
       "    .dataframe tbody tr th {\n",
       "        vertical-align: top;\n",
       "    }\n",
       "\n",
       "    .dataframe thead th {\n",
       "        text-align: right;\n",
       "    }\n",
       "</style>\n",
       "<table border=\"1\" class=\"dataframe\">\n",
       "  <thead>\n",
       "    <tr style=\"text-align: right;\">\n",
       "      <th></th>\n",
       "      <th>inflation_adjusted_gross</th>\n",
       "      <th>year_released</th>\n",
       "    </tr>\n",
       "  </thead>\n",
       "  <tbody>\n",
       "    <tr>\n",
       "      <th>inflation_adjusted_gross</th>\n",
       "      <td>1.000000</td>\n",
       "      <td>-0.362346</td>\n",
       "    </tr>\n",
       "    <tr>\n",
       "      <th>year_released</th>\n",
       "      <td>-0.362346</td>\n",
       "      <td>1.000000</td>\n",
       "    </tr>\n",
       "  </tbody>\n",
       "</table>\n",
       "</div>"
      ],
      "text/plain": [
       "                          inflation_adjusted_gross  year_released\n",
       "inflation_adjusted_gross                  1.000000      -0.362346\n",
       "year_released                            -0.362346       1.000000"
      ]
     },
     "execution_count": 28,
     "metadata": {},
     "output_type": "execute_result"
    }
   ],
   "source": [
    "#correlation of table values \n",
    "correlationframe=df.loc[:, [\"inflation_adjusted_gross\",]]\n",
    "#drop out columns we do not want to do correlation on\n",
    "correlationframe[\"year_released\"]= df[\"release_date\"].dt.year\n",
    "#slice some data from the main dataframe, pulling out year from data time. \n",
    "correlationframe.corr()\n",
    "#from this data we see that year of the movie release and adjusted gross income are not correlated "
   ]
  },
  {
   "cell_type": "code",
   "execution_count": 26,
   "metadata": {},
   "outputs": [
    {
     "data": {
      "text/html": [
       "<div>\n",
       "<style scoped>\n",
       "    .dataframe tbody tr th:only-of-type {\n",
       "        vertical-align: middle;\n",
       "    }\n",
       "\n",
       "    .dataframe tbody tr th {\n",
       "        vertical-align: top;\n",
       "    }\n",
       "\n",
       "    .dataframe thead th {\n",
       "        text-align: right;\n",
       "    }\n",
       "</style>\n",
       "<table border=\"1\" class=\"dataframe\">\n",
       "  <thead>\n",
       "    <tr style=\"text-align: right;\">\n",
       "      <th></th>\n",
       "      <th>inflation_adjusted_gross</th>\n",
       "      <th>year_released</th>\n",
       "    </tr>\n",
       "  </thead>\n",
       "  <tbody>\n",
       "    <tr>\n",
       "      <th>inflation_adjusted_gross</th>\n",
       "      <td>1.000000</td>\n",
       "      <td>-0.362346</td>\n",
       "    </tr>\n",
       "    <tr>\n",
       "      <th>year_released</th>\n",
       "      <td>-0.362346</td>\n",
       "      <td>1.000000</td>\n",
       "    </tr>\n",
       "  </tbody>\n",
       "</table>\n",
       "</div>"
      ],
      "text/plain": [
       "                          inflation_adjusted_gross  year_released\n",
       "inflation_adjusted_gross                  1.000000      -0.362346\n",
       "year_released                            -0.362346       1.000000"
      ]
     },
     "execution_count": 26,
     "metadata": {},
     "output_type": "execute_result"
    }
   ],
   "source": []
  },
  {
   "cell_type": "code",
   "execution_count": null,
   "metadata": {},
   "outputs": [],
   "source": []
  }
 ],
 "metadata": {
  "kernelspec": {
   "display_name": "Python 3",
   "language": "python",
   "name": "python3"
  },
  "language_info": {
   "codemirror_mode": {
    "name": "ipython",
    "version": 3
   },
   "file_extension": ".py",
   "mimetype": "text/x-python",
   "name": "python",
   "nbconvert_exporter": "python",
   "pygments_lexer": "ipython3",
   "version": "3.8.5"
  }
 },
 "nbformat": 4,
 "nbformat_minor": 4
}
